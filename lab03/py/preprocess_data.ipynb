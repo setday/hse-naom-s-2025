{
 "cells": [
  {
   "cell_type": "code",
   "execution_count": null,
   "metadata": {},
   "outputs": [],
   "source": [
    "import polars as pl"
   ]
  },
  {
   "cell_type": "markdown",
   "metadata": {},
   "source": [
    "# Data preprocessing"
   ]
  },
  {
   "cell_type": "markdown",
   "metadata": {},
   "source": [
    "- Binarize Operation type"
   ]
  },
  {
   "cell_type": "code",
   "execution_count": null,
   "metadata": {},
   "outputs": [],
   "source": [
    "market_data: pl.DataFrame = pl.read_csv(\"../data/MOEX_SBER_20241123_20241130.csv\").drop(\"ID\")\n",
    "\n",
    "# Binarize Operation type\n",
    "market_data = market_data.with_columns(\n",
    "    SELL=pl.col(\"OPER\") == \"S\",\n",
    "    BUY=pl.col(\"OPER\") == \"B\",\n",
    ").drop([\"OPER\"])\n",
    "\n",
    "market_data.head(3)"
   ]
  },
  {
   "cell_type": "code",
   "execution_count": null,
   "metadata": {},
   "outputs": [],
   "source": [
    "# For the further use\n",
    "min_time = market_data.get_column(\"TIME\").min()\n",
    "max_time = market_data.get_column(\"TIME\").max()"
   ]
  },
  {
   "cell_type": "code",
   "execution_count": null,
   "metadata": {},
   "outputs": [],
   "source": [
    "# Combine DATE and TIME into a DATETIME column\n",
    "market_data = market_data.with_columns(\n",
    "    # Convert DATE to a Date type (YYYY-MM-DD)\n",
    "    DATE=pl.col(\"DATE\").cast(pl.String).str.to_date(format=\"%Y%m%d\").cast(pl.Date),\n",
    "    # Convert TIME to a Time type (HH:MM:SS)\n",
    "    TIME=pl.col(\"TIME\").str.strptime(pl.Time, format=\"%H:%M:%S\")\n",
    ")\n",
    "\n",
    "market_data = market_data.with_columns(\n",
    "    # Combine the two into a DATETIME\n",
    "    DATETIME=pl.col(\"DATE\").dt.combine(pl.col(\"TIME\")).alias(\"d1\"),\n",
    ").drop([\"DATE\"])"
   ]
  },
  {
   "cell_type": "markdown",
   "metadata": {},
   "source": [
    "- Compute Buy and Sell volumes\n",
    "- Compute Mid Price for each data point as the mean between best bid and best ask"
   ]
  },
  {
   "cell_type": "code",
   "execution_count": null,
   "metadata": {},
   "outputs": [],
   "source": [
    "market_data = market_data.group_by(pl.col(\"DATETIME\"), maintain_order=True\n",
    "    ).agg(\n",
    "    (pl.col(\"VOL\") * pl.col(\"SELL\")).sum().alias(\"SELL_VOLUME\"),\n",
    "    (pl.col(\"VOL\") * pl.col(\"BUY\")).sum().alias(\"BUY_VOLUME\"),\n",
    "    (pl.col(\"SELL\") * pl.col(\"LAST\")).filter(pl.col(\"SELL\") == True).max().alias(\"BEST_BID\"),\n",
    "    (pl.col(\"BUY\") * pl.col(\"LAST\")).filter(pl.col(\"BUY\") == True).min().alias(\"BEST_ASK\")\n",
    ")"
   ]
  },
  {
   "cell_type": "code",
   "execution_count": null,
   "metadata": {},
   "outputs": [],
   "source": [
    "market_data = market_data.with_columns(\n",
    "    pl.when(( ~pl.col(\"BEST_ASK\").is_nan() ) & (~pl.col(\"BEST_BID\").is_nan()))\n",
    "      .then\n",
    "        ((pl.col(\"BEST_ASK\") + pl.col(\"BEST_BID\")) / 2)\n",
    "      .otherwise\n",
    "        (pl.coalesce(pl.col(\"BEST_ASK\"), pl.col(\"BEST_BID\"))).alias(\"MID_PX\")\n",
    ")"
   ]
  },
  {
   "cell_type": "code",
   "execution_count": null,
   "metadata": {},
   "outputs": [],
   "source": [
    "market_data"
   ]
  },
  {
   "cell_type": "code",
   "execution_count": null,
   "metadata": {},
   "outputs": [],
   "source": [
    "# Interpolate missing values\n",
    "# Get all timeframes between the min and max time\n",
    "time_range = pl.DataFrame({\n",
    "    \"DATETIME\": pl.datetime_range(\n",
    "        start=market_data[\"DATETIME\"].min(), end=market_data[\"DATETIME\"].max(), interval=\"1s\", eager=True\n",
    "    )\n",
    "})\n",
    "\n",
    "market_data = time_range.join(market_data, on=\"DATETIME\", how=\"left\")\n",
    "\n",
    "market_data = market_data.with_columns([\n",
    "    pl.col(\"SELL_VOLUME\").fill_null(0),\n",
    "    pl.col(\"BUY_VOLUME\").fill_null(0),\n",
    "    pl.col(\"MID_PX\").forward_fill()\n",
    "])"
   ]
  },
  {
   "cell_type": "code",
   "execution_count": null,
   "metadata": {},
   "outputs": [],
   "source": [
    "market_data = market_data.with_columns(\n",
    "    pl.col(\"DATETIME\").cast(pl.Time).alias(\"TIME\")\n",
    ")"
   ]
  },
  {
   "cell_type": "code",
   "execution_count": null,
   "metadata": {},
   "outputs": [],
   "source": [
    "market_data"
   ]
  },
  {
   "cell_type": "code",
   "execution_count": null,
   "metadata": {},
   "outputs": [],
   "source": [
    "max_time, min_time"
   ]
  },
  {
   "cell_type": "code",
   "execution_count": null,
   "metadata": {},
   "outputs": [],
   "source": [
    "import datetime\n",
    "\n",
    "max_time_py = datetime.time(int(max_time[0:2]), int(max_time[3:5]), int(max_time[6:8]))\n",
    "min_time_py = datetime.time(int(min_time[0:2]), int(min_time[3:5]), int(min_time[6:8]))"
   ]
  },
  {
   "cell_type": "code",
   "execution_count": null,
   "metadata": {},
   "outputs": [],
   "source": [
    "market_data = market_data.filter(\n",
    "    (pl.col(\"TIME\") <= max_time_py) & ((pl.col(\"TIME\") >= min_time_py))\n",
    ")"
   ]
  },
  {
   "cell_type": "code",
   "execution_count": null,
   "metadata": {},
   "outputs": [],
   "source": [
    "market_data.drop([\"DATETIME\", \"BEST_BID\", \"BEST_ASK\", \"TIME\"]).write_csv(\"../data/train.csv\")"
   ]
  },
  {
   "cell_type": "code",
   "execution_count": null,
   "metadata": {},
   "outputs": [],
   "source": []
  }
 ],
 "metadata": {
  "kernelspec": {
   "display_name": ".venv",
   "language": "python",
   "name": "python3"
  },
  "language_info": {
   "codemirror_mode": {
    "name": "ipython",
    "version": 3
   },
   "file_extension": ".py",
   "mimetype": "text/x-python",
   "name": "python",
   "nbconvert_exporter": "python",
   "pygments_lexer": "ipython3",
   "version": "3.12.3"
  }
 },
 "nbformat": 4,
 "nbformat_minor": 2
}
