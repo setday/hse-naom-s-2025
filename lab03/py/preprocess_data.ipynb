{
 "cells": [
  {
   "cell_type": "code",
   "execution_count": 1,
   "metadata": {},
   "outputs": [],
   "source": [
    "import polars as pl"
   ]
  },
  {
   "cell_type": "markdown",
   "metadata": {},
   "source": [
    "# Data preprocessing"
   ]
  },
  {
   "cell_type": "markdown",
   "metadata": {},
   "source": [
    "- Binarize Operation type"
   ]
  },
  {
   "cell_type": "code",
   "execution_count": 2,
   "metadata": {},
   "outputs": [
    {
     "data": {
      "text/html": [
       "<div><style>\n",
       ".dataframe > thead > tr,\n",
       ".dataframe > tbody > tr {\n",
       "  text-align: right;\n",
       "  white-space: pre-wrap;\n",
       "}\n",
       "</style>\n",
       "<small>shape: (3, 6)</small><table border=\"1\" class=\"dataframe\"><thead><tr><th>DATE</th><th>TIME</th><th>LAST</th><th>VOL</th><th>SELL</th><th>BUY</th></tr><tr><td>i64</td><td>str</td><td>f64</td><td>i64</td><td>bool</td><td>bool</td></tr></thead><tbody><tr><td>20241125</td><td>&quot;09:59:43&quot;</td><td>236.0</td><td>80</td><td>false</td><td>true</td></tr><tr><td>20241125</td><td>&quot;09:59:43&quot;</td><td>236.0</td><td>120</td><td>false</td><td>true</td></tr><tr><td>20241125</td><td>&quot;09:59:43&quot;</td><td>236.0</td><td>20</td><td>false</td><td>true</td></tr></tbody></table></div>"
      ],
      "text/plain": [
       "shape: (3, 6)\n",
       "┌──────────┬──────────┬───────┬─────┬───────┬──────┐\n",
       "│ DATE     ┆ TIME     ┆ LAST  ┆ VOL ┆ SELL  ┆ BUY  │\n",
       "│ ---      ┆ ---      ┆ ---   ┆ --- ┆ ---   ┆ ---  │\n",
       "│ i64      ┆ str      ┆ f64   ┆ i64 ┆ bool  ┆ bool │\n",
       "╞══════════╪══════════╪═══════╪═════╪═══════╪══════╡\n",
       "│ 20241125 ┆ 09:59:43 ┆ 236.0 ┆ 80  ┆ false ┆ true │\n",
       "│ 20241125 ┆ 09:59:43 ┆ 236.0 ┆ 120 ┆ false ┆ true │\n",
       "│ 20241125 ┆ 09:59:43 ┆ 236.0 ┆ 20  ┆ false ┆ true │\n",
       "└──────────┴──────────┴───────┴─────┴───────┴──────┘"
      ]
     },
     "execution_count": 2,
     "metadata": {},
     "output_type": "execute_result"
    }
   ],
   "source": [
    "market_data: pl.DataFrame = pl.read_csv(\"../data/MOEX_SBER_20241123_20241130.csv\").drop(\"ID\")\n",
    "\n",
    "# Binarize Operation type\n",
    "market_data = market_data.with_columns(\n",
    "    SELL=pl.col(\"OPER\") == \"S\",\n",
    "    BUY=pl.col(\"OPER\") == \"B\",\n",
    ").drop([\"OPER\"])\n",
    "\n",
    "market_data.head(3)"
   ]
  },
  {
   "cell_type": "code",
   "execution_count": 3,
   "metadata": {},
   "outputs": [],
   "source": [
    "# Combine DATE and TIME into a DATETIME column\n",
    "market_data = market_data.with_columns(\n",
    "    # Convert DATE to a Date type (YYYY-MM-DD)\n",
    "    DATE=pl.col(\"DATE\").cast(pl.String).str.to_date(format=\"%Y%m%d\").cast(pl.Date),\n",
    "    # Convert TIME to a Time type (HH:MM:SS)\n",
    "    TIME=pl.col(\"TIME\").str.strptime(pl.Time, format=\"%H:%M:%S\")\n",
    ")\n",
    "\n",
    "market_data = market_data.with_columns(\n",
    "    # Combine the two into a DATETIME\n",
    "    DATETIME=pl.col(\"DATE\").dt.combine(pl.col(\"TIME\")).alias(\"d1\"),\n",
    ").drop([\"TIME\", \"DATE\"])"
   ]
  },
  {
   "cell_type": "code",
   "execution_count": 4,
   "metadata": {},
   "outputs": [
    {
     "data": {
      "text/html": [
       "<div><style>\n",
       ".dataframe > thead > tr,\n",
       ".dataframe > tbody > tr {\n",
       "  text-align: right;\n",
       "  white-space: pre-wrap;\n",
       "}\n",
       "</style>\n",
       "<small>shape: (3, 5)</small><table border=\"1\" class=\"dataframe\"><thead><tr><th>LAST</th><th>VOL</th><th>SELL</th><th>BUY</th><th>DATETIME</th></tr><tr><td>f64</td><td>i64</td><td>bool</td><td>bool</td><td>datetime[μs]</td></tr></thead><tbody><tr><td>236.0</td><td>80</td><td>false</td><td>true</td><td>2024-11-25 09:59:43</td></tr><tr><td>236.0</td><td>120</td><td>false</td><td>true</td><td>2024-11-25 09:59:43</td></tr><tr><td>236.0</td><td>20</td><td>false</td><td>true</td><td>2024-11-25 09:59:43</td></tr></tbody></table></div>"
      ],
      "text/plain": [
       "shape: (3, 5)\n",
       "┌───────┬─────┬───────┬──────┬─────────────────────┐\n",
       "│ LAST  ┆ VOL ┆ SELL  ┆ BUY  ┆ DATETIME            │\n",
       "│ ---   ┆ --- ┆ ---   ┆ ---  ┆ ---                 │\n",
       "│ f64   ┆ i64 ┆ bool  ┆ bool ┆ datetime[μs]        │\n",
       "╞═══════╪═════╪═══════╪══════╪═════════════════════╡\n",
       "│ 236.0 ┆ 80  ┆ false ┆ true ┆ 2024-11-25 09:59:43 │\n",
       "│ 236.0 ┆ 120 ┆ false ┆ true ┆ 2024-11-25 09:59:43 │\n",
       "│ 236.0 ┆ 20  ┆ false ┆ true ┆ 2024-11-25 09:59:43 │\n",
       "└───────┴─────┴───────┴──────┴─────────────────────┘"
      ]
     },
     "execution_count": 4,
     "metadata": {},
     "output_type": "execute_result"
    }
   ],
   "source": [
    "market_data.head(3)"
   ]
  },
  {
   "cell_type": "markdown",
   "metadata": {},
   "source": [
    "- Compute Buy and Sell volumes\n",
    "- Compute Mid Price for each data point as the mean between best bid and best ask"
   ]
  },
  {
   "cell_type": "code",
   "execution_count": 5,
   "metadata": {},
   "outputs": [],
   "source": [
    "market_data = market_data.group_by(pl.col(\"DATETIME\"), maintain_order=True\n",
    "    ).agg(\n",
    "    (pl.col(\"VOL\") * pl.col(\"SELL\")).sum().alias(\"SELL_VOLUME\"),\n",
    "    (pl.col(\"VOL\") * pl.col(\"BUY\")).sum().alias(\"BUY_VOLUME\"),\n",
    "    (pl.col(\"SELL\") * pl.col(\"LAST\")).filter(pl.col(\"SELL\") == True).max().alias(\"BEST_BID\"),\n",
    "    (pl.col(\"BUY\") * pl.col(\"LAST\")).filter(pl.col(\"BUY\") == True).min().alias(\"BEST_ASK\")\n",
    ")"
   ]
  },
  {
   "cell_type": "code",
   "execution_count": 6,
   "metadata": {},
   "outputs": [],
   "source": [
    "market_data = market_data.with_columns(\n",
    "    pl.when(( ~pl.col(\"BEST_ASK\").is_nan() ) & (~pl.col(\"BEST_BID\").is_nan()))\n",
    "      .then\n",
    "        ((pl.col(\"BEST_ASK\") + pl.col(\"BEST_BID\")) / 2)\n",
    "      .otherwise\n",
    "        (pl.coalesce(pl.col(\"BEST_ASK\"), pl.col(\"BEST_BID\"))).alias(\"MID_PX\")\n",
    ")"
   ]
  },
  {
   "cell_type": "code",
   "execution_count": 7,
   "metadata": {},
   "outputs": [
    {
     "data": {
      "text/html": [
       "<div><style>\n",
       ".dataframe > thead > tr,\n",
       ".dataframe > tbody > tr {\n",
       "  text-align: right;\n",
       "  white-space: pre-wrap;\n",
       "}\n",
       "</style>\n",
       "<small>shape: (153_612, 6)</small><table border=\"1\" class=\"dataframe\"><thead><tr><th>DATETIME</th><th>SELL_VOLUME</th><th>BUY_VOLUME</th><th>BEST_BID</th><th>BEST_ASK</th><th>MID_PX</th></tr><tr><td>datetime[μs]</td><td>i64</td><td>i64</td><td>f64</td><td>f64</td><td>f64</td></tr></thead><tbody><tr><td>2024-11-25 09:59:43</td><td>68290</td><td>43250</td><td>236.0</td><td>236.0</td><td>236.0</td></tr><tr><td>2024-11-25 10:00:00</td><td>4850</td><td>2190</td><td>235.99</td><td>236.0</td><td>235.995</td></tr><tr><td>2024-11-25 10:00:01</td><td>120</td><td>2860</td><td>235.98</td><td>236.0</td><td>235.99</td></tr><tr><td>2024-11-25 10:00:02</td><td>0</td><td>470</td><td>null</td><td>236.0</td><td>236.0</td></tr><tr><td>2024-11-25 10:00:03</td><td>1600</td><td>110</td><td>235.99</td><td>236.0</td><td>235.995</td></tr><tr><td>&hellip;</td><td>&hellip;</td><td>&hellip;</td><td>&hellip;</td><td>&hellip;</td><td>&hellip;</td></tr><tr><td>2024-11-29 23:49:49</td><td>500</td><td>1400</td><td>236.46</td><td>236.49</td><td>236.475</td></tr><tr><td>2024-11-29 23:49:52</td><td>10000</td><td>0</td><td>236.43</td><td>null</td><td>236.43</td></tr><tr><td>2024-11-29 23:49:53</td><td>10</td><td>0</td><td>236.44</td><td>null</td><td>236.44</td></tr><tr><td>2024-11-29 23:49:56</td><td>0</td><td>510</td><td>null</td><td>236.49</td><td>236.49</td></tr><tr><td>2024-11-29 23:49:58</td><td>0</td><td>10</td><td>null</td><td>236.49</td><td>236.49</td></tr></tbody></table></div>"
      ],
      "text/plain": [
       "shape: (153_612, 6)\n",
       "┌─────────────────────┬─────────────┬────────────┬──────────┬──────────┬─────────┐\n",
       "│ DATETIME            ┆ SELL_VOLUME ┆ BUY_VOLUME ┆ BEST_BID ┆ BEST_ASK ┆ MID_PX  │\n",
       "│ ---                 ┆ ---         ┆ ---        ┆ ---      ┆ ---      ┆ ---     │\n",
       "│ datetime[μs]        ┆ i64         ┆ i64        ┆ f64      ┆ f64      ┆ f64     │\n",
       "╞═════════════════════╪═════════════╪════════════╪══════════╪══════════╪═════════╡\n",
       "│ 2024-11-25 09:59:43 ┆ 68290       ┆ 43250      ┆ 236.0    ┆ 236.0    ┆ 236.0   │\n",
       "│ 2024-11-25 10:00:00 ┆ 4850        ┆ 2190       ┆ 235.99   ┆ 236.0    ┆ 235.995 │\n",
       "│ 2024-11-25 10:00:01 ┆ 120         ┆ 2860       ┆ 235.98   ┆ 236.0    ┆ 235.99  │\n",
       "│ 2024-11-25 10:00:02 ┆ 0           ┆ 470        ┆ null     ┆ 236.0    ┆ 236.0   │\n",
       "│ 2024-11-25 10:00:03 ┆ 1600        ┆ 110        ┆ 235.99   ┆ 236.0    ┆ 235.995 │\n",
       "│ …                   ┆ …           ┆ …          ┆ …        ┆ …        ┆ …       │\n",
       "│ 2024-11-29 23:49:49 ┆ 500         ┆ 1400       ┆ 236.46   ┆ 236.49   ┆ 236.475 │\n",
       "│ 2024-11-29 23:49:52 ┆ 10000       ┆ 0          ┆ 236.43   ┆ null     ┆ 236.43  │\n",
       "│ 2024-11-29 23:49:53 ┆ 10          ┆ 0          ┆ 236.44   ┆ null     ┆ 236.44  │\n",
       "│ 2024-11-29 23:49:56 ┆ 0           ┆ 510        ┆ null     ┆ 236.49   ┆ 236.49  │\n",
       "│ 2024-11-29 23:49:58 ┆ 0           ┆ 10         ┆ null     ┆ 236.49   ┆ 236.49  │\n",
       "└─────────────────────┴─────────────┴────────────┴──────────┴──────────┴─────────┘"
      ]
     },
     "execution_count": 7,
     "metadata": {},
     "output_type": "execute_result"
    }
   ],
   "source": [
    "market_data"
   ]
  },
  {
   "cell_type": "code",
   "execution_count": 8,
   "metadata": {},
   "outputs": [],
   "source": [
    "market_data.write_csv(\"../data/train.csv\")"
   ]
  },
  {
   "cell_type": "code",
   "execution_count": 9,
   "metadata": {},
   "outputs": [],
   "source": [
    "## Interpolate missing values\n",
    "# # Get all timeframes between the min and max time\n",
    "# time_range = pl.DataFrame({\n",
    "#     \"DATETIME\": pl.datetime_range(\n",
    "#         start=market_data[\"DATETIME\"].min(), end=market_data[\"DATETIME\"].max(), interval=\"1s\", eager=True\n",
    "#     )\n",
    "# # })\n",
    "\n",
    "# market_data = time_range.join(market_data, on=\"DATETIME\", how=\"left\")\n",
    "\n",
    "# market_data = market_data.with_columns([\n",
    "#     pl.col(\"SELL_VOLUME\").fill_null(0),\n",
    "#     pl.col(\"BUY_VOLUME\").fill_null(0),\n",
    "#     pl.col(\"MID_PX\").forward_fill()\n",
    "# ])"
   ]
  }
 ],
 "metadata": {
  "kernelspec": {
   "display_name": ".venv",
   "language": "python",
   "name": "python3"
  },
  "language_info": {
   "codemirror_mode": {
    "name": "ipython",
    "version": 3
   },
   "file_extension": ".py",
   "mimetype": "text/x-python",
   "name": "python",
   "nbconvert_exporter": "python",
   "pygments_lexer": "ipython3",
   "version": "3.12.3"
  }
 },
 "nbformat": 4,
 "nbformat_minor": 2
}
