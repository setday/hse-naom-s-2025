{
 "cells": [
  {
   "cell_type": "code",
   "execution_count": 1,
   "metadata": {},
   "outputs": [],
   "source": [
    "import polars as pl\n",
    "import math"
   ]
  },
  {
   "cell_type": "markdown",
   "metadata": {},
   "source": [
    "# Data preprocessing"
   ]
  },
  {
   "cell_type": "markdown",
   "metadata": {},
   "source": [
    "- Binarize Operation type"
   ]
  },
  {
   "cell_type": "code",
   "execution_count": 2,
   "metadata": {},
   "outputs": [
    {
     "data": {
      "text/html": [
       "<div><style>\n",
       ".dataframe > thead > tr,\n",
       ".dataframe > tbody > tr {\n",
       "  text-align: right;\n",
       "  white-space: pre-wrap;\n",
       "}\n",
       "</style>\n",
       "<small>shape: (3, 6)</small><table border=\"1\" class=\"dataframe\"><thead><tr><th>DATE</th><th>TIME</th><th>LAST</th><th>VOL</th><th>SELL</th><th>BUY</th></tr><tr><td>i64</td><td>str</td><td>f64</td><td>i64</td><td>bool</td><td>bool</td></tr></thead><tbody><tr><td>20241125</td><td>&quot;09:59:43&quot;</td><td>236.0</td><td>80</td><td>false</td><td>true</td></tr><tr><td>20241125</td><td>&quot;09:59:43&quot;</td><td>236.0</td><td>120</td><td>false</td><td>true</td></tr><tr><td>20241125</td><td>&quot;09:59:43&quot;</td><td>236.0</td><td>20</td><td>false</td><td>true</td></tr></tbody></table></div>"
      ],
      "text/plain": [
       "shape: (3, 6)\n",
       "┌──────────┬──────────┬───────┬─────┬───────┬──────┐\n",
       "│ DATE     ┆ TIME     ┆ LAST  ┆ VOL ┆ SELL  ┆ BUY  │\n",
       "│ ---      ┆ ---      ┆ ---   ┆ --- ┆ ---   ┆ ---  │\n",
       "│ i64      ┆ str      ┆ f64   ┆ i64 ┆ bool  ┆ bool │\n",
       "╞══════════╪══════════╪═══════╪═════╪═══════╪══════╡\n",
       "│ 20241125 ┆ 09:59:43 ┆ 236.0 ┆ 80  ┆ false ┆ true │\n",
       "│ 20241125 ┆ 09:59:43 ┆ 236.0 ┆ 120 ┆ false ┆ true │\n",
       "│ 20241125 ┆ 09:59:43 ┆ 236.0 ┆ 20  ┆ false ┆ true │\n",
       "└──────────┴──────────┴───────┴─────┴───────┴──────┘"
      ]
     },
     "execution_count": 2,
     "metadata": {},
     "output_type": "execute_result"
    }
   ],
   "source": [
    "market_data: pl.DataFrame = pl.read_csv(\"data/MOEX_SBER_20241123_20241130.csv\").drop(\"ID\")\n",
    "\n",
    "# Binarize Operation type\n",
    "market_data = market_data.with_columns(\n",
    "    SELL=pl.col(\"OPER\") == \"S\",\n",
    "    BUY=pl.col(\"OPER\") == \"B\",\n",
    ").drop([\"OPER\"])\n",
    "\n",
    "market_data.head(3)"
   ]
  },
  {
   "cell_type": "code",
   "execution_count": 3,
   "metadata": {},
   "outputs": [],
   "source": [
    "# Combine DATE and TIME into a DATETIME column\n",
    "market_data = market_data.with_columns(\n",
    "    # Convert DATE to a Date type (YYYY-MM-DD)\n",
    "    DATE=pl.col(\"DATE\").cast(pl.String).str.to_date(format=\"%Y%m%d\").cast(pl.Date),\n",
    "    # Convert TIME to a Time type (HH:MM:SS)\n",
    "    TIME=pl.col(\"TIME\").str.strptime(pl.Time, format=\"%H:%M:%S\")\n",
    ")\n",
    "\n",
    "market_data = market_data.with_columns(\n",
    "    # Combine the two into a DATETIME\n",
    "    DATETIME=pl.col(\"DATE\").dt.combine(pl.col(\"TIME\")).alias(\"d1\"),\n",
    ").drop([\"TIME\", \"DATE\"])"
   ]
  },
  {
   "cell_type": "code",
   "execution_count": 4,
   "metadata": {},
   "outputs": [
    {
     "data": {
      "text/html": [
       "<div><style>\n",
       ".dataframe > thead > tr,\n",
       ".dataframe > tbody > tr {\n",
       "  text-align: right;\n",
       "  white-space: pre-wrap;\n",
       "}\n",
       "</style>\n",
       "<small>shape: (3, 5)</small><table border=\"1\" class=\"dataframe\"><thead><tr><th>LAST</th><th>VOL</th><th>SELL</th><th>BUY</th><th>DATETIME</th></tr><tr><td>f64</td><td>i64</td><td>bool</td><td>bool</td><td>datetime[μs]</td></tr></thead><tbody><tr><td>236.0</td><td>80</td><td>false</td><td>true</td><td>2024-11-25 09:59:43</td></tr><tr><td>236.0</td><td>120</td><td>false</td><td>true</td><td>2024-11-25 09:59:43</td></tr><tr><td>236.0</td><td>20</td><td>false</td><td>true</td><td>2024-11-25 09:59:43</td></tr></tbody></table></div>"
      ],
      "text/plain": [
       "shape: (3, 5)\n",
       "┌───────┬─────┬───────┬──────┬─────────────────────┐\n",
       "│ LAST  ┆ VOL ┆ SELL  ┆ BUY  ┆ DATETIME            │\n",
       "│ ---   ┆ --- ┆ ---   ┆ ---  ┆ ---                 │\n",
       "│ f64   ┆ i64 ┆ bool  ┆ bool ┆ datetime[μs]        │\n",
       "╞═══════╪═════╪═══════╪══════╪═════════════════════╡\n",
       "│ 236.0 ┆ 80  ┆ false ┆ true ┆ 2024-11-25 09:59:43 │\n",
       "│ 236.0 ┆ 120 ┆ false ┆ true ┆ 2024-11-25 09:59:43 │\n",
       "│ 236.0 ┆ 20  ┆ false ┆ true ┆ 2024-11-25 09:59:43 │\n",
       "└───────┴─────┴───────┴──────┴─────────────────────┘"
      ]
     },
     "execution_count": 4,
     "metadata": {},
     "output_type": "execute_result"
    }
   ],
   "source": [
    "market_data.head(3)"
   ]
  },
  {
   "cell_type": "markdown",
   "metadata": {},
   "source": [
    "- Compute Buy and Sell volumes\n",
    "- Compute Mid Price for each data point as the mean between best bid and best ask"
   ]
  },
  {
   "cell_type": "code",
   "execution_count": 5,
   "metadata": {},
   "outputs": [],
   "source": [
    "market_data = market_data.group_by(pl.col(\"DATETIME\"), maintain_order=True\n",
    "    ).agg(\n",
    "    (pl.col(\"VOL\") * pl.col(\"SELL\")).sum().alias(\"SELL_VOLUME\"),\n",
    "    (pl.col(\"VOL\") * pl.col(\"BUY\")).sum().alias(\"BUY_VOLUME\"),\n",
    "    (pl.col(\"SELL\") * pl.col(\"LAST\")).filter(pl.col(\"SELL\") == True).max().alias(\"BEST_BID\"),\n",
    "    (pl.col(\"BUY\") * pl.col(\"LAST\")).filter(pl.col(\"BUY\") == True).min().alias(\"BEST_ASK\")\n",
    ")"
   ]
  },
  {
   "cell_type": "code",
   "execution_count": 6,
   "metadata": {},
   "outputs": [],
   "source": [
    "market_data = market_data.with_columns(\n",
    "    pl.when(( ~pl.col(\"BEST_ASK\").is_nan() ) & (~pl.col(\"BEST_BID\").is_nan()))\n",
    "      .then\n",
    "        ((pl.col(\"BEST_ASK\") + pl.col(\"BEST_BID\")) / 2)\n",
    "      .otherwise\n",
    "        (pl.coalesce(pl.col(\"BEST_ASK\"), pl.col(\"BEST_BID\"))).alias(\"MID_PX\")\n",
    ")"
   ]
  },
  {
   "cell_type": "code",
   "execution_count": 7,
   "metadata": {},
   "outputs": [
    {
     "data": {
      "text/html": [
       "<div><style>\n",
       ".dataframe > thead > tr,\n",
       ".dataframe > tbody > tr {\n",
       "  text-align: right;\n",
       "  white-space: pre-wrap;\n",
       "}\n",
       "</style>\n",
       "<small>shape: (153_612, 6)</small><table border=\"1\" class=\"dataframe\"><thead><tr><th>DATETIME</th><th>SELL_VOLUME</th><th>BUY_VOLUME</th><th>BEST_BID</th><th>BEST_ASK</th><th>MID_PX</th></tr><tr><td>datetime[μs]</td><td>i64</td><td>i64</td><td>f64</td><td>f64</td><td>f64</td></tr></thead><tbody><tr><td>2024-11-25 09:59:43</td><td>68290</td><td>43250</td><td>236.0</td><td>236.0</td><td>236.0</td></tr><tr><td>2024-11-25 10:00:00</td><td>4850</td><td>2190</td><td>235.99</td><td>236.0</td><td>235.995</td></tr><tr><td>2024-11-25 10:00:01</td><td>120</td><td>2860</td><td>235.98</td><td>236.0</td><td>235.99</td></tr><tr><td>2024-11-25 10:00:02</td><td>0</td><td>470</td><td>null</td><td>236.0</td><td>236.0</td></tr><tr><td>2024-11-25 10:00:03</td><td>1600</td><td>110</td><td>235.99</td><td>236.0</td><td>235.995</td></tr><tr><td>&hellip;</td><td>&hellip;</td><td>&hellip;</td><td>&hellip;</td><td>&hellip;</td><td>&hellip;</td></tr><tr><td>2024-11-29 23:49:49</td><td>500</td><td>1400</td><td>236.46</td><td>236.49</td><td>236.475</td></tr><tr><td>2024-11-29 23:49:52</td><td>10000</td><td>0</td><td>236.43</td><td>null</td><td>236.43</td></tr><tr><td>2024-11-29 23:49:53</td><td>10</td><td>0</td><td>236.44</td><td>null</td><td>236.44</td></tr><tr><td>2024-11-29 23:49:56</td><td>0</td><td>510</td><td>null</td><td>236.49</td><td>236.49</td></tr><tr><td>2024-11-29 23:49:58</td><td>0</td><td>10</td><td>null</td><td>236.49</td><td>236.49</td></tr></tbody></table></div>"
      ],
      "text/plain": [
       "shape: (153_612, 6)\n",
       "┌─────────────────────┬─────────────┬────────────┬──────────┬──────────┬─────────┐\n",
       "│ DATETIME            ┆ SELL_VOLUME ┆ BUY_VOLUME ┆ BEST_BID ┆ BEST_ASK ┆ MID_PX  │\n",
       "│ ---                 ┆ ---         ┆ ---        ┆ ---      ┆ ---      ┆ ---     │\n",
       "│ datetime[μs]        ┆ i64         ┆ i64        ┆ f64      ┆ f64      ┆ f64     │\n",
       "╞═════════════════════╪═════════════╪════════════╪══════════╪══════════╪═════════╡\n",
       "│ 2024-11-25 09:59:43 ┆ 68290       ┆ 43250      ┆ 236.0    ┆ 236.0    ┆ 236.0   │\n",
       "│ 2024-11-25 10:00:00 ┆ 4850        ┆ 2190       ┆ 235.99   ┆ 236.0    ┆ 235.995 │\n",
       "│ 2024-11-25 10:00:01 ┆ 120         ┆ 2860       ┆ 235.98   ┆ 236.0    ┆ 235.99  │\n",
       "│ 2024-11-25 10:00:02 ┆ 0           ┆ 470        ┆ null     ┆ 236.0    ┆ 236.0   │\n",
       "│ 2024-11-25 10:00:03 ┆ 1600        ┆ 110        ┆ 235.99   ┆ 236.0    ┆ 235.995 │\n",
       "│ …                   ┆ …           ┆ …          ┆ …        ┆ …        ┆ …       │\n",
       "│ 2024-11-29 23:49:49 ┆ 500         ┆ 1400       ┆ 236.46   ┆ 236.49   ┆ 236.475 │\n",
       "│ 2024-11-29 23:49:52 ┆ 10000       ┆ 0          ┆ 236.43   ┆ null     ┆ 236.43  │\n",
       "│ 2024-11-29 23:49:53 ┆ 10          ┆ 0          ┆ 236.44   ┆ null     ┆ 236.44  │\n",
       "│ 2024-11-29 23:49:56 ┆ 0           ┆ 510        ┆ null     ┆ 236.49   ┆ 236.49  │\n",
       "│ 2024-11-29 23:49:58 ┆ 0           ┆ 10         ┆ null     ┆ 236.49   ┆ 236.49  │\n",
       "└─────────────────────┴─────────────┴────────────┴──────────┴──────────┴─────────┘"
      ]
     },
     "execution_count": 7,
     "metadata": {},
     "output_type": "execute_result"
    }
   ],
   "source": [
    "market_data"
   ]
  },
  {
   "cell_type": "code",
   "execution_count": 8,
   "metadata": {},
   "outputs": [],
   "source": [
    "## Interpolate missing values\n",
    "# # Get all timeframes between the min and max time\n",
    "# time_range = pl.DataFrame({\n",
    "#     \"DATETIME\": pl.datetime_range(\n",
    "#         start=market_data[\"DATETIME\"].min(), end=market_data[\"DATETIME\"].max(), interval=\"1s\", eager=True\n",
    "#     )\n",
    "# # })\n",
    "\n",
    "# market_data = time_range.join(market_data, on=\"DATETIME\", how=\"left\")\n",
    "\n",
    "# market_data = market_data.with_columns([\n",
    "#     pl.col(\"SELL_VOLUME\").fill_null(0),\n",
    "#     pl.col(\"BUY_VOLUME\").fill_null(0),\n",
    "#     pl.col(\"MID_PX\").forward_fill()\n",
    "# ])"
   ]
  },
  {
   "cell_type": "code",
   "execution_count": null,
   "metadata": {},
   "outputs": [],
   "source": [
    "class MomentumStrategy:\n",
    "\n",
    "    def __init__(self, K: int = 144, risk_control: float = 10_000,\n",
    "                 window_size: int = 300, data: pl.DataFrame = None,\n",
    "                 a: float = None, beta: float = None,\n",
    "                 alpha1: float = None, alpha2: float = None,\n",
    "                 alpha3: float = None, alpha4: float = None):\n",
    "\n",
    "        self.params_: dict = {\n",
    "            \"a\": a,\n",
    "            \"beta\": beta,\n",
    "            \"alpha1\": alpha1,\n",
    "            \"alpha2\": alpha2,\n",
    "            \"alpha3\": alpha3,\n",
    "            \"alpha4\": alpha4\n",
    "        }\n",
    "\n",
    "        self.hyperparams_: dict = {\n",
    "            \"K\": K,\n",
    "            \"risk_control\": risk_control,\n",
    "            \"window_size\": window_size,  # Measured in seconds\n",
    "            \"tau\": 60  # Timestep to compute position again. Measured in seconds\n",
    "        }\n",
    "        self.time_steps_ = data.get_column(\"DATETIME\").to_list()\n",
    "        self.sell_volume_ = data.get_column(\"SELL_VOLUME\").to_list()\n",
    "        self.buy_volume_ = data.get_column(\"BUY_VOLUME\").to_list()\n",
    "        self.volume_ = [s + b for s,\n",
    "                        b in zip(self.sell_volume_, self.buy_volume_)]\n",
    "        # The prefix sums below are needed for rapid computation of x3_tilda\n",
    "        self.volume_prefix_sum = [0]\n",
    "        for v in self.volume_:\n",
    "            self.volume_prefix_sum.append(v + self.volume_prefix_sum[-1])\n",
    "        self.buy_volume_prefix_sum = [0]\n",
    "        for bv in self.buy_volume_:\n",
    "            self.buy_volume_prefix_sum.append(\n",
    "                bv + self.buy_volume_prefix_sum[-1])\n",
    "\n",
    "        self.mid_px_ = data.get_column(\"MID_PX\").to_list()\n",
    "        self.n_transactions = 0\n",
    "\n",
    "    def get_position(self, t: int) -> float:\n",
    "        if t == 0:\n",
    "            return 0\n",
    "        x = self.get_x(t)\n",
    "\n",
    "        if abs(x) < self.params_[\"a\"]:\n",
    "            return 0\n",
    "\n",
    "        if x >= self.params_[\"a\"]:\n",
    "            return 2 * self.hyperparams_[\"risk_control\"] / math.pi * math.atan(math.pow((x - self.params_[\"a\"]), self.params_[\"beta\"]))\n",
    "\n",
    "        return -2 * self.hyperparams_[\"risk_control\"] / math.pi * math.atan(math.pow((-x - self.params_[\"a\"]), self.params_[\"beta\"]))\n",
    "\n",
    "    def get_x(self, t: int):\n",
    "        x1 = self.get_x1(t)\n",
    "        x2 = self.get_x2(t)\n",
    "        x3 = self.get_x3(t)\n",
    "        x4 = self.get_x4(t)\n",
    "        return self.params_[\"alpha1\"] * x1 + self.params_[\"alpha2\"] * x2 + self.params_[\"alpha3\"] * x3 + self.params_[\"alpha4\"] * x4\n",
    "\n",
    "    def get_x1(self, t: int):\n",
    "        return self.get_mu(t) / self.get_mu_std(t)\n",
    "\n",
    "    def get_x2(self, t: int):\n",
    "        # The formula below was derived using Taylor expansion for x1(t-w) and x1(t - 2w), where w is a window_size\n",
    "        return (3 * self.get_x1(t) - 4 * self.get_x1(t - self.hyperparams_[\"window_size\"]) + self.get_x1(t - 2 * self.hyperparams_[\"window_size\"])) / (2 * self.hyperparams_[\"window_size\"])\n",
    "\n",
    "    # Market Pressure normalized by its standard deviation.\n",
    "    def get_x3(self, t: int):\n",
    "        return self.get_x3_tilda(t) / self.get_x3_tilda_std(t)\n",
    "\n",
    "    def get_x4(self, t: int):\n",
    "        # The formula below was derived using Taylor expansion for x1(t-w) and x1(t - 2w), where w is a window_size\n",
    "        return (3 * self.get_x3(t) - 4 * self.get_x3(t - self.hyperparams_[\"window_size\"]) + self.get_x3(t - 2 * self.hyperparams_[\"window_size\"])) / (2 * self.hyperparams_[\"window_size\"] * self.get_x3_tilda_std(t))\n",
    "\n",
    "    # sigma = volatility\n",
    "    def get_sigma_squared(self, t: int) -> None:\n",
    "        sigma_squared = 0\n",
    "        for i in range(t, t - self.hyperparams_[\"window_size\"] - 1, -1):\n",
    "            sigma_squared += math.log(self.mid_px_[i] /\n",
    "                                      self.mid_px_[i - 1]) ** 2\n",
    "\n",
    "        return sigma_squared / self.hyperparams_[\"window_size\"]\n",
    "\n",
    "    # mu = trend strength\n",
    "    def get_mu(self, t: int):\n",
    "        sigma_squared = self.get_sigma_squared(t)\n",
    "        return sigma_squared / 2 + math.log(self.mid_px_[t] / self.mid_px_[t - self.hyperparams_[\"window_size\"]]) / self.hyperparams_[\"window_size\"]\n",
    "\n",
    "    def get_mu_std(self, t: int):\n",
    "        return math.sqrt(self.get_sigma_squared(t) / self.hyperparams_[\"window_size\"])\n",
    "\n",
    "    # x3_tilda = Market Pressure, but is not normalized by its standard deviation (x3 is).\n",
    "    def get_x3_tilda(self, t: int):\n",
    "        total_volume = self.volume_prefix_sum[t] - \\\n",
    "            self.volume_prefix_sum[t - self.hyperparams_[\"window_size\"]]\n",
    "        if total_volume == 0:\n",
    "            return 0\n",
    "\n",
    "        buy_volume = self.buy_volume_prefix_sum[t] - \\\n",
    "            self.buy_volume_prefix_sum[t - self.hyperparams_[\"window_size\"]]\n",
    "        return 2 * buy_volume / total_volume - 1\n",
    "\n",
    "    def get_x3_tilda_mean(self, t: int):\n",
    "        x3_tilda_mean = 0\n",
    "        for k in range(0, self.hyperparams_[\"K\"]):\n",
    "            x3_tilda_mean += self.get_x3_tilda(t -\n",
    "                                               k * self.hyperparams_[\"window_size\"])\n",
    "\n",
    "        return x3_tilda_mean / (self.hyperparams_[\"K\"])  # sample mean\n",
    "\n",
    "    def get_x3_tilda_std(self, t: int):\n",
    "        x3_tilda_mean = self.get_x3_tilda_mean(t)\n",
    "        x3_tilda_std = 0\n",
    "        for k in range(0, self.hyperparams_[\"K\"]):\n",
    "            assert t - k * \\\n",
    "                self.hyperparams_[\"window_size\"] >= 0, print(\n",
    "                    t, k * self.hyperparams_[\"window_size\"])\n",
    "            x3_tilda_std += (self.get_x3_tilda(t - k *\n",
    "                             self.hyperparams_[\"window_size\"]) - x3_tilda_mean) ** 2\n",
    "        return x3_tilda_std / (self.hyperparams_[\"K\"] - 1)  # sample variance\n",
    "\n",
    "    def get_delta_PnL(self, t1: int, t2: int):\n",
    "        pos = self.get_position(t1)\n",
    "        return pos * (self.mid_px_[t2] - self.mid_px_[t1])\n",
    "\n",
    "    def get_PnL(self, T: int):\n",
    "        # t0 is assumed to be 0\n",
    "        total_PnL = 0\n",
    "        for i in range(self.hyperparams_[\"window_size\"] * (self.hyperparams_[\"K\"] + 1), T - self.hyperparams_[\"tau\"], self.hyperparams_[\"tau\"]):\n",
    "            total_PnL += self.get_delta_PnL(t1=i,\n",
    "                                            t2=i + self.hyperparams_[\"tau\"])\n",
    "        print(f\"INFO: Profit: {round(total_PnL, 3):,} RUB\")\n",
    "        return total_PnL\n",
    "\n",
    "    def get_sortino_ratio(self, T: int):\n",
    "        max_drawdown = -float(\"inf\")\n",
    "        for t in range(0, T + 1):\n",
    "            max_drawdown = max(max_drawdown, self.get_drawdown(t))\n",
    "        return self.get_PnL(T) / max_drawdown\n",
    "\n",
    "    def get_drawdown(self, t: int):\n",
    "        PnL = self.get_PnL(t)\n",
    "        return max(0, -PnL)\n"
   ]
  },
  {
   "cell_type": "markdown",
   "metadata": {},
   "source": [
    "### Test on a fake dataset, where price is first raising up then going down "
   ]
  },
  {
   "cell_type": "code",
   "execution_count": 10,
   "metadata": {},
   "outputs": [
    {
     "name": "stdout",
     "output_type": "stream",
     "text": [
      "INFO: Profit: 10,974,800.0 RUB\n"
     ]
    }
   ],
   "source": [
    "fake_data = market_data.__copy__()\n",
    "\n",
    "fake_prices = []\n",
    "for i in range(1, fake_data.height // 2):\n",
    "    fake_prices.append(i)\n",
    "while len(fake_prices) < fake_data.height:\n",
    "    fake_prices.append(fake_prices[-1] - 1)\n",
    "\n",
    "fake_data = fake_data.with_columns(\n",
    "    MID_PX=pl.Series(fake_prices)\n",
    ")\n",
    "\n",
    "test = MomentumStrategy(K=144,\n",
    "                        risk_control=100,\n",
    "                        window_size=300,\n",
    "                        data=fake_data,\n",
    "                        a=2,\n",
    "                        beta=10,\n",
    "                        alpha1=5,\n",
    "                        alpha2=3,\n",
    "                        alpha3=2,\n",
    "                        alpha4=0.4)\n",
    "\n",
    "test.get_PnL(T=fake_data.height);"
   ]
  },
  {
   "cell_type": "markdown",
   "metadata": {},
   "source": [
    "# Test on a real world dataset"
   ]
  },
  {
   "cell_type": "code",
   "execution_count": 11,
   "metadata": {},
   "outputs": [
    {
     "name": "stdout",
     "output_type": "stream",
     "text": [
      "INFO: Profit: 179,008.141 RUB\n"
     ]
    }
   ],
   "source": [
    "# Choose relatively random parameters\n",
    "test = MomentumStrategy(K=144,\n",
    "                        risk_control=10_000,\n",
    "                        window_size=60,\n",
    "                        data=market_data,\n",
    "                        a=1,\n",
    "                        beta=10,\n",
    "                        alpha1=5,\n",
    "                        alpha2=3,\n",
    "                        alpha3=2,\n",
    "                        alpha4=0.4)\n",
    "\n",
    "\n",
    "\n",
    "test.get_PnL(T=market_data.height);"
   ]
  },
  {
   "cell_type": "markdown",
   "metadata": {},
   "source": [
    "# Utilize grid search to find the best combination of params"
   ]
  },
  {
   "cell_type": "code",
   "execution_count": null,
   "metadata": {},
   "outputs": [],
   "source": [
    "import itertools\n",
    "\n",
    "# Define the parameter grids\n",
    "a_values = [1, 2, 2.5]\n",
    "alpha1_values = [1, 3, 5, 10]\n",
    "alpha2_values = [1, 3, 5, 10]\n",
    "alpha3_values = [1, 3, 5, 10]\n",
    "alpha4_values = [1, 3, 5, 10]\n",
    "beta_values = [1, 3, 5]\n",
    "\n",
    "# Generate all combinations of parameters\n",
    "param_grid = itertools.product(a_values, alpha1_values, alpha2_values, alpha3_values, alpha4_values, beta_values)\n",
    "\n",
    "# Iterate over all parameter combinations\n",
    "results = []\n",
    "best_pnl = -float(\"-inf\")\n",
    "for params in param_grid:\n",
    "    a, alpha1, alpha2, alpha3, alpha4, beta = params\n",
    "    \n",
    "    # Instantiate the strategy with the current parameters\n",
    "    test = MomentumStrategy(K=144,\n",
    "                            risk_control=10_000,\n",
    "                            window_size=100,\n",
    "                            data=market_data,\n",
    "                            a=a,\n",
    "                            beta=beta,\n",
    "                            alpha1=alpha1,\n",
    "                            alpha2=alpha2,\n",
    "                            alpha3=alpha3,\n",
    "                            alpha4=alpha4)\n",
    "    \n",
    "    # Get the PnL for the current set of parameters\n",
    "    pnl = test.get_PnL(T=market_data.height)\n",
    "    # Store the result with the corresponding parameters\n",
    "    results.append({\n",
    "        \"a\": a,\n",
    "        \"alpha1\": alpha1,\n",
    "        \"alpha2\": alpha2,\n",
    "        \"alpha3\": alpha3,\n",
    "        \"alpha4\": alpha4,\n",
    "        \"beta\": beta,\n",
    "        \"PnL\": pnl\n",
    "    })\n",
    "\n",
    "# Optionally, you can sort the results by PnL to find the best performing set of parameters\n",
    "sorted_results = sorted(results, key=lambda x: x[\"PnL\"], reverse=True)\n",
    "\n",
    "# Print the best result\n",
    "best_result = sorted_results[0]\n",
    "print(\"Best parameters:\", best_result)"
   ]
  }
 ],
 "metadata": {
  "kernelspec": {
   "display_name": ".venv",
   "language": "python",
   "name": "python3"
  },
  "language_info": {
   "codemirror_mode": {
    "name": "ipython",
    "version": 3
   },
   "file_extension": ".py",
   "mimetype": "text/x-python",
   "name": "python",
   "nbconvert_exporter": "python",
   "pygments_lexer": "ipython3",
   "version": "3.12.3"
  }
 },
 "nbformat": 4,
 "nbformat_minor": 2
}
